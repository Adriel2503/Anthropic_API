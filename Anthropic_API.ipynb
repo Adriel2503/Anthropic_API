{
 "cells": [
  {
   "cell_type": "markdown",
   "metadata": {
    "colab_type": "text",
    "id": "view-in-github"
   },
   "source": [
    "<a href=\"https://colab.research.google.com/github/alarcon7a/Anthtopic-API/blob/main/Anthropic_API_python.ipynb\" target=\"_parent\"><img src=\"https://colab.research.google.com/assets/colab-badge.svg\" alt=\"Open In Colab\"/></a>"
   ]
  },
  {
   "cell_type": "markdown",
   "metadata": {
    "id": "TJxIAeNNSdXY"
   },
   "source": [
    "# Anthropic (Claude 3) API"
   ]
  },
  {
   "cell_type": "markdown",
   "metadata": {
    "id": "C0Yf-PrfSaDH"
   },
   "source": [
    "Instalar librerias"
   ]
  },
  {
   "cell_type": "code",
   "execution_count": null,
   "metadata": {
    "colab": {
     "base_uri": "https://localhost:8080/"
    },
    "id": "E0VWxF6ySKwf",
    "outputId": "075240cd-bb3c-47e6-b43a-542d69886af4"
   },
   "outputs": [],
   "source": [
    "!pip install anthropic"
   ]
  },
  {
   "cell_type": "code",
   "execution_count": null,
   "metadata": {
    "id": "HZvTHjPjSs6Z"
   },
   "outputs": [],
   "source": [
    "import anthropic\n",
    "from getpass import getpass\n",
    "import os"
   ]
  },
  {
   "cell_type": "code",
   "execution_count": null,
   "metadata": {
    "colab": {
     "base_uri": "https://localhost:8080/"
    },
    "id": "xKcjTKCyS7vn",
    "outputId": "431994cb-12d0-4076-b250-10be30846358"
   },
   "outputs": [],
   "source": [
    "ANTHROPIC_API_KEY = getpass('Ingresa tu API de Anthropic')"
   ]
  },
  {
   "cell_type": "markdown",
   "metadata": {
    "id": "dPLOx7M9TV5q"
   },
   "source": [
    "*Opcion 1*"
   ]
  },
  {
   "cell_type": "code",
   "execution_count": null,
   "metadata": {
    "id": "LsyZGCYARLE3"
   },
   "outputs": [],
   "source": [
    "client = anthropic.Anthropic(\n",
    "    api_key=ANTHROPIC_API_KEY,\n",
    ")"
   ]
  },
  {
   "cell_type": "code",
   "execution_count": null,
   "metadata": {
    "colab": {
     "base_uri": "https://localhost:8080/"
    },
    "id": "kNhhZlGhTs62",
    "outputId": "bda02884-0c97-49bc-af85-77f55be8e65d"
   },
   "outputs": [],
   "source": [
    "client"
   ]
  },
  {
   "cell_type": "markdown",
   "metadata": {
    "id": "peJKAJvzTXq-"
   },
   "source": [
    "*Opcion 2*"
   ]
  },
  {
   "cell_type": "code",
   "execution_count": null,
   "metadata": {
    "id": "DWSFiwCoTaEO"
   },
   "outputs": [],
   "source": [
    "os.environ[\"ANTHROPIC_API_KEY\"] = ANTHROPIC_API_KEY\n",
    "client = anthropic.Anthropic()"
   ]
  },
  {
   "cell_type": "code",
   "execution_count": null,
   "metadata": {
    "colab": {
     "base_uri": "https://localhost:8080/"
    },
    "id": "lzwAhl7nTwbL",
    "outputId": "af002910-25fd-435a-f215-191897bdd161"
   },
   "outputs": [],
   "source": [
    "client"
   ]
  },
  {
   "cell_type": "markdown",
   "metadata": {
    "id": "GH4yMI1YT4Cb"
   },
   "source": [
    "## Messages"
   ]
  },
  {
   "cell_type": "markdown",
   "metadata": {
    "id": "aaDkjX58WWBg"
   },
   "source": [
    "### Uso base"
   ]
  },
  {
   "cell_type": "code",
   "execution_count": null,
   "metadata": {
    "id": "u6tt0GO0T3bT"
   },
   "outputs": [],
   "source": [
    "response = client.messages.create(\n",
    "    model=\"claude-3-opus-20240229\",\n",
    "    max_tokens=1024,\n",
    "    messages=[\n",
    "        {\"role\": \"user\", \"content\": \"Hola, quien eres?\"}\n",
    "    ]\n",
    ")"
   ]
  },
  {
   "cell_type": "code",
   "execution_count": null,
   "metadata": {
    "colab": {
     "base_uri": "https://localhost:8080/"
    },
    "id": "lq3jR-3nV-x8",
    "outputId": "f0008a1a-2b2f-48e0-94d4-c5505a1337d4"
   },
   "outputs": [],
   "source": [
    "print(response.content[0].text)"
   ]
  },
  {
   "cell_type": "markdown",
   "metadata": {
    "id": "ZpKlVq1qWXcK"
   },
   "source": [
    "### Chat con roles"
   ]
  },
  {
   "cell_type": "code",
   "execution_count": null,
   "metadata": {
    "id": "2_moARQaWUnF"
   },
   "outputs": [],
   "source": [
    "response = client.messages.create(\n",
    "    model=\"claude-3-opus-20240229\",\n",
    "    max_tokens=1024,\n",
    "    messages=[\n",
    "        {\"role\": \"user\", \"content\": \"Hola, cuanto es 10 + 10?\"},\n",
    "        {\"role\": \"assistant\", \"content\": \"la respuesta es 20\"},\n",
    "        {\"role\": \"user\", \"content\": \"Y si le sumo 5?\"},\n",
    "    ]\n",
    ")"
   ]
  },
  {
   "cell_type": "code",
   "execution_count": null,
   "metadata": {
    "colab": {
     "base_uri": "https://localhost:8080/"
    },
    "id": "LbaEz7DuWua1",
    "outputId": "2045dffc-e70f-4ef0-fea6-bbf619d6d7c8"
   },
   "outputs": [],
   "source": [
    "print(response.content[0].text)"
   ]
  },
  {
   "cell_type": "markdown",
   "metadata": {
    "id": "IyOw81IKXYO-"
   },
   "source": [
    "### System role"
   ]
  },
  {
   "cell_type": "code",
   "execution_count": null,
   "metadata": {
    "id": "ZncufVU-XapZ"
   },
   "outputs": [],
   "source": [
    "response = client.messages.create(\n",
    "    model=\"claude-3-opus-20240229\",\n",
    "    max_tokens=1024,\n",
    "    system=\"Actua como un pirata y siempre responde en español e ingles mezclado\",\n",
    "    messages=[\n",
    "        {\"role\": \"user\", \"content\": \"Hola, quien eres?\"}\n",
    "    ]\n",
    ")"
   ]
  },
  {
   "cell_type": "code",
   "execution_count": null,
   "metadata": {
    "colab": {
     "base_uri": "https://localhost:8080/"
    },
    "id": "JelhXZi-XnmD",
    "outputId": "53ba773c-e3c5-4d86-860c-e730897a3db9"
   },
   "outputs": [],
   "source": [
    "print(response.content[0].text)"
   ]
  },
  {
   "cell_type": "markdown",
   "metadata": {
    "id": "jVz1k4-LXwqo"
   },
   "source": [
    "## Stream"
   ]
  },
  {
   "cell_type": "code",
   "execution_count": null,
   "metadata": {
    "colab": {
     "base_uri": "https://localhost:8080/"
    },
    "id": "oZfaW28iXy9W",
    "outputId": "43eaea42-3999-46eb-ed3c-d4250f15f242"
   },
   "outputs": [],
   "source": [
    "with client.messages.stream(\n",
    "    max_tokens=1024,\n",
    "    messages=[{\"role\": \"user\", \"content\": \"Hola, cuentame un pequeño cuento para dormir sobre perros\"}],\n",
    "    model=\"claude-3-haiku-20240307\",##Un modelo mas rapido\n",
    ") as stream:\n",
    "  for text in stream.text_stream:\n",
    "      print(text, end=\"\", flush=True)"
   ]
  },
  {
   "cell_type": "code",
   "execution_count": null,
   "metadata": {
    "colab": {
     "base_uri": "https://localhost:8080/"
    },
    "id": "weBCSpLHYgsa",
    "outputId": "d7c5d9ff-616d-45e4-a293-0175d0524ded"
   },
   "outputs": [],
   "source": [
    "count = 0\n",
    "with client.messages.stream(\n",
    "    max_tokens=1024,\n",
    "    messages=[{\"role\": \"user\", \"content\": \"Hola, cuentame un pequeño cuento para dormir sobre perros\"}],\n",
    "    model=\"claude-3-haiku-20240307\",##Un modelo mas rapido\n",
    ") as stream:\n",
    "  for text in stream.text_stream:\n",
    "      count\n",
    "      print('----',count,'----',text, end=\"\", flush=True)\n",
    "      count += 1"
   ]
  },
  {
   "cell_type": "markdown",
   "metadata": {
    "id": "nkqLAh4cZSaM"
   },
   "source": [
    "## Vision"
   ]
  },
  {
   "cell_type": "code",
   "execution_count": null,
   "metadata": {
    "id": "Kaj1ZZZLbQsA"
   },
   "outputs": [],
   "source": [
    "import base64"
   ]
  },
  {
   "cell_type": "code",
   "execution_count": null,
   "metadata": {
    "id": "IACzX3JZavaX"
   },
   "outputs": [],
   "source": [
    "# Function to encode the image\n",
    "def encode_image(image_path):\n",
    "  with open(image_path, \"rb\") as image_file:\n",
    "    return base64.b64encode(image_file.read()).decode('utf-8')"
   ]
  },
  {
   "cell_type": "code",
   "execution_count": null,
   "metadata": {
    "id": "EpuB5zztZR1t"
   },
   "outputs": [],
   "source": [
    "image_media_type = \"image/png\"\n",
    "image_data = encode_image('/content/Imagen_samurai.png')\n",
    "\n",
    "message = anthropic.Anthropic().messages.create(\n",
    "    model=\"claude-3-opus-20240229\",\n",
    "    max_tokens=1024,\n",
    "    messages=[\n",
    "        {\n",
    "            \"role\": \"user\",\n",
    "            \"content\": [\n",
    "                {\n",
    "                    \"type\": \"image\",\n",
    "                    \"source\": {\n",
    "                        \"type\": \"base64\",\n",
    "                        \"media_type\": image_media_type,\n",
    "                        \"data\": image_data,\n",
    "                    },\n",
    "                }\n",
    "            ],\n",
    "        }\n",
    "    ],\n",
    ")\n"
   ]
  },
  {
   "cell_type": "code",
   "execution_count": null,
   "metadata": {
    "colab": {
     "base_uri": "https://localhost:8080/"
    },
    "id": "OJEOt2O-fQss",
    "outputId": "739f9b2d-e300-461f-a53e-c8dd1cfc230e"
   },
   "outputs": [],
   "source": [
    "print(message.content[0].text)"
   ]
  },
  {
   "cell_type": "markdown",
   "metadata": {
    "id": "G2_hBpSGgKOq"
   },
   "source": [
    "Prompt"
   ]
  },
  {
   "cell_type": "code",
   "execution_count": null,
   "metadata": {
    "id": "ZZUw6tbQbUga"
   },
   "outputs": [],
   "source": [
    "message = anthropic.Anthropic().messages.create(\n",
    "    model=\"claude-3-opus-20240229\",\n",
    "    max_tokens=1024,\n",
    "    messages=[\n",
    "        {\n",
    "            \"role\": \"user\",\n",
    "            \"content\": [\n",
    "                {\n",
    "                    \"type\": \"image\",\n",
    "                    \"source\": {\n",
    "                        \"type\": \"base64\",\n",
    "                        \"media_type\": image_media_type,\n",
    "                        \"data\": image_data,\n",
    "                    },\n",
    "                },\n",
    "                {\n",
    "                    \"type\": \"text\",\n",
    "                    \"text\": \"Describe la imagen, en español\"\n",
    "                }\n",
    "            ],\n",
    "        }\n",
    "    ],\n",
    ")"
   ]
  },
  {
   "cell_type": "code",
   "execution_count": null,
   "metadata": {
    "colab": {
     "base_uri": "https://localhost:8080/"
    },
    "id": "oju9cV2nbBEC",
    "outputId": "f3ec5038-9c15-4e67-bfd2-d72be2b4c041"
   },
   "outputs": [],
   "source": [
    "print(message.content[0].text)"
   ]
  },
  {
   "cell_type": "markdown",
   "metadata": {
    "id": "k8GljrLsgHO_"
   },
   "source": [
    "Multiples imagenes"
   ]
  },
  {
   "cell_type": "code",
   "execution_count": null,
   "metadata": {
    "id": "-L250uF4gU0R"
   },
   "outputs": [],
   "source": [
    "fire_samurai = encode_image('/content/fire_samurai.png')\n",
    "water_samurai = encode_image('/content/water_samurai.png')"
   ]
  },
  {
   "cell_type": "code",
   "execution_count": null,
   "metadata": {
    "id": "D4bE-2Etf9RC"
   },
   "outputs": [],
   "source": [
    "message = anthropic.Anthropic().messages.create(\n",
    "    model=\"claude-3-opus-20240229\",\n",
    "    max_tokens=1024,\n",
    "    messages=[\n",
    "        {\n",
    "            \"role\": \"user\",\n",
    "            \"content\": [\n",
    "                {\n",
    "                    \"type\": \"text\",\n",
    "                    \"text\": \"Image 1:\"\n",
    "                },\n",
    "                {\n",
    "                    \"type\": \"image\",\n",
    "                    \"source\": {\n",
    "                        \"type\": \"base64\",\n",
    "                        \"media_type\": image_media_type,\n",
    "                        \"data\": fire_samurai,\n",
    "                    },\n",
    "                },\n",
    "                {\n",
    "                    \"type\": \"text\",\n",
    "                    \"text\": \"Image 2:\"\n",
    "                },\n",
    "                {\n",
    "                    \"type\": \"image\",\n",
    "                    \"source\": {\n",
    "                        \"type\": \"base64\",\n",
    "                        \"media_type\": image_media_type,\n",
    "                        \"data\": water_samurai,\n",
    "                    },\n",
    "                },\n",
    "                {\n",
    "                    \"type\": \"text\",\n",
    "                    \"text\": \"Crea un pequeño cuento basado en las dos imagenes\"\n",
    "                }\n",
    "            ],\n",
    "        }\n",
    "    ],\n",
    ")"
   ]
  },
  {
   "cell_type": "code",
   "execution_count": null,
   "metadata": {
    "colab": {
     "base_uri": "https://localhost:8080/"
    },
    "id": "DAhz12yhgvMI",
    "outputId": "21697a1f-44da-466a-ae2a-417b83ee0d93"
   },
   "outputs": [],
   "source": [
    "print(message.content[0].text)"
   ]
  }
 ],
 "metadata": {
  "colab": {
   "authorship_tag": "ABX9TyOQZvEPI+H3JsH67hYedr/Z",
   "include_colab_link": true,
   "provenance": []
  },
  "kernelspec": {
   "display_name": "Python 3",
   "name": "python3"
  },
  "language_info": {
   "name": "python"
  }
 },
 "nbformat": 4,
 "nbformat_minor": 0
}
